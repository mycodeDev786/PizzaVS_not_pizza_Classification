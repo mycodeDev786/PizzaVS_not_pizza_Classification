{
  "cells": [
    {
      "cell_type": "code",
      "execution_count": 1,
      "metadata": {
        "id": "XwS3JKt-U1CE",
        "colab": {
          "base_uri": "https://localhost:8080/"
        },
        "outputId": "553b9073-5874-43f3-bb8d-3a155a835c3a"
      },
      "outputs": [
        {
          "output_type": "stream",
          "name": "stdout",
          "text": [
            "Mounted at /content/drive\n"
          ]
        }
      ],
      "source": [
        "#My dataset is available in googledrive; so I am accessing my drive from colab\n",
        "from google.colab import drive\n",
        "drive.mount('/content/drive', force_remount=True)\n",
        "#Once this is executed, you will see your drive appearing on the left hand side"
      ]
    },
    {
      "cell_type": "code",
      "execution_count": 2,
      "metadata": {
        "id": "SMPHESYVVnzp"
      },
      "outputs": [],
      "source": [
        "# Define paths to the dataset\n",
        "train_dir = '/content/drive/MyDrive/pizza_not_pizza/train'  # Update with your actual path\n",
        "test_dir = '/content/drive/MyDrive/pizza_not_pizza/test'    # Update with your actual path"
      ]
    },
    {
      "cell_type": "code",
      "execution_count": 3,
      "metadata": {
        "colab": {
          "base_uri": "https://localhost:8080/"
        },
        "id": "wwfZiLtU6Ruq",
        "outputId": "54b0ce69-7ccd-4864-a003-a5c340fac5cc"
      },
      "outputs": [
        {
          "output_type": "stream",
          "name": "stdout",
          "text": [
            "855\n",
            "855\n",
            "128\n",
            "128\n"
          ]
        }
      ],
      "source": [
        "import os\n",
        "print(len(os.listdir('/content/drive/MyDrive/pizza_not_pizza/train/pizza')))\n",
        "print(len(os.listdir('/content/drive/MyDrive/pizza_not_pizza/train/not_pizza')))\n",
        "print(len(os.listdir('/content/drive/MyDrive/pizza_not_pizza/test/pizza')))\n",
        "print(len(os.listdir('/content/drive/MyDrive/pizza_not_pizza/test/not_pizza')))"
      ]
    },
    {
      "cell_type": "code",
      "execution_count": 4,
      "metadata": {
        "colab": {
          "base_uri": "https://localhost:8080/"
        },
        "id": "kf8li3JNUJR1",
        "outputId": "3c741183-2a29-4cfc-dd86-ab9d376032db"
      },
      "outputs": [
        {
          "output_type": "stream",
          "name": "stdout",
          "text": [
            "Found 1368 images belonging to 2 classes.\n",
            "Found 342 images belonging to 2 classes.\n"
          ]
        }
      ],
      "source": [
        "import tensorflow as tf\n",
        "from tensorflow.keras.preprocessing.image import ImageDataGenerator\n",
        "\n",
        "# Create ImageDataGenerator for training set\n",
        "train_datagen = ImageDataGenerator(\n",
        "    rescale=1./255,\n",
        "    validation_split=0.2  # Split 20% of the images for validation\n",
        ")\n",
        "\n",
        "# Load and prepare training data\n",
        "train_data = train_datagen.flow_from_directory(\n",
        "    train_dir,\n",
        "    target_size=(256,256),\n",
        "    batch_size=32,\n",
        "    class_mode='binary',  # 'binary' for binary classification (cats vs. dogs)\n",
        "    subset='training'  # Specify 'training' for the training set\n",
        ")\n",
        "\n",
        "# Create ImageDataGenerator for validation set\n",
        "validation_datagen = ImageDataGenerator(\n",
        "    rescale=1./255,\n",
        "    validation_split=0.2  # Note: Using the same validation split as in the training set\n",
        ")\n",
        "\n",
        "# Load and prepare validation data\n",
        "validation_data = validation_datagen.flow_from_directory(\n",
        "    train_dir,\n",
        "    target_size=(256,256),\n",
        "    batch_size=32,\n",
        "    class_mode='binary',\n",
        "    subset='validation'  # Specify 'validation' for the validation set\n",
        ")"
      ]
    },
    {
      "cell_type": "code",
      "source": [
        "from tensorflow import keras\n",
        "from keras import Sequential\n",
        "from keras.layers import Dense,Conv2D,MaxPooling2D,Flatten\n",
        "\n",
        "resnet_model = Sequential()    #ResNet50 is a pre-trained model\n",
        "pretrained_model = tf.keras.applications.ResNet50(include_top = False, #because i have my own image of a diff dimension\n",
        "                                                input_shape = (256,256,3),\n",
        "                                                pooling = 'max', classes = 2,\n",
        "                                                weights = 'imagenet')\n",
        "for layer in pretrained_model.layers:\n",
        "    layer.trainable = False  #all layers in the Resnet50 is not trainable; keep those weights; I am going to add my own i/p and other layers\n",
        "\n",
        "resnet_model.add(pretrained_model)\n",
        "resnet_model.add(Flatten())\n",
        "resnet_model.add(Dense(512, activation = 'relu'))\n",
        "resnet_model.add(Dense(1, activation = 'sigmoid'))"
      ],
      "metadata": {
        "id": "ja7Bv3UkSlKz",
        "colab": {
          "base_uri": "https://localhost:8080/"
        },
        "outputId": "9348557a-69ba-4383-dfc0-189c21a8be4d"
      },
      "execution_count": 5,
      "outputs": [
        {
          "output_type": "stream",
          "name": "stdout",
          "text": [
            "Downloading data from https://storage.googleapis.com/tensorflow/keras-applications/resnet/resnet50_weights_tf_dim_ordering_tf_kernels_notop.h5\n",
            "94765736/94765736 [==============================] - 1s 0us/step\n"
          ]
        }
      ]
    },
    {
      "cell_type": "code",
      "source": [
        "resnet_model.summary()"
      ],
      "metadata": {
        "colab": {
          "base_uri": "https://localhost:8080/"
        },
        "id": "dDZwlEw9VSVh",
        "outputId": "850b5a47-81f4-489e-bee9-6cb56fac6889"
      },
      "execution_count": 6,
      "outputs": [
        {
          "output_type": "stream",
          "name": "stdout",
          "text": [
            "Model: \"sequential\"\n",
            "_________________________________________________________________\n",
            " Layer (type)                Output Shape              Param #   \n",
            "=================================================================\n",
            " resnet50 (Functional)       (None, 2048)              23587712  \n",
            "                                                                 \n",
            " flatten (Flatten)           (None, 2048)              0         \n",
            "                                                                 \n",
            " dense (Dense)               (None, 512)               1049088   \n",
            "                                                                 \n",
            " dense_1 (Dense)             (None, 1)                 513       \n",
            "                                                                 \n",
            "=================================================================\n",
            "Total params: 24,637,313\n",
            "Trainable params: 1,049,601\n",
            "Non-trainable params: 23,587,712\n",
            "_________________________________________________________________\n"
          ]
        }
      ]
    },
    {
      "cell_type": "code",
      "execution_count": 7,
      "metadata": {
        "id": "SeBjyn0iWXgY"
      },
      "outputs": [],
      "source": [
        "from keras.optimizers import Adam\n",
        "resnet_model.compile(optimizer=Adam(learning_rate=0.001),loss='binary_crossentropy',metrics=['accuracy']) #binary_crossentropy - binary classification"
      ]
    },
    {
      "cell_type": "code",
      "execution_count": 8,
      "metadata": {
        "colab": {
          "base_uri": "https://localhost:8080/"
        },
        "id": "lGbY2VpIWbTt",
        "outputId": "c6c092dc-f7c2-4e57-f5de-60c79a638265"
      },
      "outputs": [
        {
          "output_type": "stream",
          "name": "stdout",
          "text": [
            "Epoch 1/3\n",
            "43/43 [==============================] - 533s 12s/step - loss: 1.5798 - accuracy: 0.5497 - val_loss: 0.6439 - val_accuracy: 0.6199\n",
            "Epoch 2/3\n",
            "43/43 [==============================] - 553s 13s/step - loss: 0.7002 - accuracy: 0.6031 - val_loss: 0.6413 - val_accuracy: 0.6257\n",
            "Epoch 3/3\n",
            "43/43 [==============================] - 493s 12s/step - loss: 0.6054 - accuracy: 0.6827 - val_loss: 0.6125 - val_accuracy: 0.6345\n"
          ]
        }
      ],
      "source": [
        "history = resnet_model.fit(train_data, epochs=3, validation_data=validation_data)"
      ]
    },
    {
      "cell_type": "code",
      "execution_count": 9,
      "metadata": {
        "id": "g21dMlSOWKas",
        "colab": {
          "base_uri": "https://localhost:8080/",
          "height": 430
        },
        "outputId": "01ce8968-9731-4d73-f8b6-295c1b42cea4"
      },
      "outputs": [
        {
          "output_type": "display_data",
          "data": {
            "text/plain": [
              "<Figure size 640x480 with 1 Axes>"
            ],
            "image/png": "[encoded data removed]"
          },
          "metadata": {}
        }
      ],
      "source": [
        "import matplotlib.pyplot as plt\n",
        "\n",
        "plt.plot(history.history['accuracy'],color='red',label='train')\n",
        "plt.plot(history.history['val_accuracy'],color='blue',label='validation')\n",
        "plt.legend()\n",
        "plt.show()"
      ]
    },
    {
      "cell_type": "code",
      "execution_count": 10,
      "metadata": {
        "id": "FYZ0VJp4esXl",
        "colab": {
          "base_uri": "https://localhost:8080/",
          "height": 430
        },
        "outputId": "cb78c0a4-129a-4b4d-f423-b4b79170b539"
      },
      "outputs": [
        {
          "output_type": "display_data",
          "data": {
            "text/plain": [
              "<Figure size 640x480 with 1 Axes>"
            ],
            "image/png": "[encoded data removed]"
          },
          "metadata": {}
        }
      ],
      "source": [
        "plt.plot(history.history['loss'],color='red',label='train')\n",
        "plt.plot(history.history['val_loss'],color='blue',label='validation')\n",
        "plt.legend()\n",
        "plt.show()"
      ]
    },
    {
      "cell_type": "code",
      "execution_count": 11,
      "metadata": {
        "id": "tQj_RyrZWBEt",
        "colab": {
          "base_uri": "https://localhost:8080/"
        },
        "outputId": "b8aec87e-969a-442e-b056-c93e99305314"
      },
      "outputs": [
        {
          "output_type": "stream",
          "name": "stdout",
          "text": [
            "Found 256 images belonging to 2 classes.\n"
          ]
        }
      ],
      "source": [
        "test_datagen = ImageDataGenerator(rescale=1./255)\n",
        "test_data = test_datagen.flow_from_directory(\n",
        "    test_dir,\n",
        "    target_size=(256,256),\n",
        "    batch_size=32,\n",
        "    class_mode='binary'\n",
        ")"
      ]
    },
    {
      "cell_type": "code",
      "execution_count": 12,
      "metadata": {
        "id": "glicW8_5vTqd",
        "colab": {
          "base_uri": "https://localhost:8080/"
        },
        "outputId": "b7844a4f-140d-465e-dba7-d0d24567ac5f"
      },
      "outputs": [
        {
          "output_type": "stream",
          "name": "stdout",
          "text": [
            "8/8 [==============================] - 74s 9s/step\n",
            "[[0.42415398]\n",
            " [0.4764401 ]\n",
            " [0.54290116]\n",
            " [0.9001901 ]\n",
            " [0.7041765 ]\n",
            " [0.73479146]\n",
            " [0.72058964]\n",
            " [0.33572507]\n",
            " [0.9025268 ]\n",
            " [0.5509001 ]\n",
            " [0.4579568 ]\n",
            " [0.43299332]\n",
            " [0.9383213 ]\n",
            " [0.3494607 ]\n",
            " [0.969944  ]\n",
            " [0.7176797 ]\n",
            " [0.75132877]\n",
            " [0.48295352]\n",
            " [0.39394942]\n",
            " [0.9398814 ]\n",
            " [0.8178954 ]\n",
            " [0.822904  ]\n",
            " [0.28949746]\n",
            " [0.9345747 ]\n",
            " [0.7025772 ]\n",
            " [0.8499143 ]\n",
            " [0.39972833]\n",
            " [0.6449482 ]\n",
            " [0.61685437]\n",
            " [0.8204924 ]\n",
            " [0.8002912 ]\n",
            " [0.24318367]\n",
            " [0.7147758 ]\n",
            " [0.2871102 ]\n",
            " [0.578967  ]\n",
            " [0.5859248 ]\n",
            " [0.51924366]\n",
            " [0.54599065]\n",
            " [0.6038076 ]\n",
            " [0.18791635]\n",
            " [0.74525446]\n",
            " [0.8193377 ]\n",
            " [0.39260006]\n",
            " [0.7236644 ]\n",
            " [0.5238529 ]\n",
            " [0.5274976 ]\n",
            " [0.7992005 ]\n",
            " [0.8900344 ]\n",
            " [0.42838067]\n",
            " [0.8250619 ]\n",
            " [0.59095997]\n",
            " [0.73221093]\n",
            " [0.8686997 ]\n",
            " [0.47445604]\n",
            " [0.23692027]\n",
            " [0.5961736 ]\n",
            " [0.84026486]\n",
            " [0.58695334]\n",
            " [0.2029427 ]\n",
            " [0.47725785]\n",
            " [0.6444566 ]\n",
            " [0.6006683 ]\n",
            " [0.8138092 ]\n",
            " [0.8575198 ]\n",
            " [0.63341266]\n",
            " [0.39344314]\n",
            " [0.71038014]\n",
            " [0.3801366 ]\n",
            " [0.40145904]\n",
            " [0.60039973]\n",
            " [0.9048978 ]\n",
            " [0.90185624]\n",
            " [0.47921872]\n",
            " [0.87817734]\n",
            " [0.41798344]\n",
            " [0.72674996]\n",
            " [0.94580185]\n",
            " [0.6553974 ]\n",
            " [0.9364605 ]\n",
            " [0.42637122]\n",
            " [0.8782125 ]\n",
            " [0.80812794]\n",
            " [0.457074  ]\n",
            " [0.33539099]\n",
            " [0.73102474]\n",
            " [0.7589179 ]\n",
            " [0.9283464 ]\n",
            " [0.47749126]\n",
            " [0.6699554 ]\n",
            " [0.5976594 ]\n",
            " [0.79739434]\n",
            " [0.62633777]\n",
            " [0.54884595]\n",
            " [0.6277213 ]\n",
            " [0.6911746 ]\n",
            " [0.8350828 ]\n",
            " [0.6003979 ]\n",
            " [0.54715335]\n",
            " [0.66877955]\n",
            " [0.27982745]\n",
            " [0.5159651 ]\n",
            " [0.41025236]\n",
            " [0.6092281 ]\n",
            " [0.33714166]\n",
            " [0.3282405 ]\n",
            " [0.6496822 ]\n",
            " [0.55307984]\n",
            " [0.77087384]\n",
            " [0.7216391 ]\n",
            " [0.50227773]\n",
            " [0.84169436]\n",
            " [0.78081745]\n",
            " [0.88528085]\n",
            " [0.74209046]\n",
            " [0.62820935]\n",
            " [0.1099062 ]\n",
            " [0.89074576]\n",
            " [0.8766663 ]\n",
            " [0.6345218 ]\n",
            " [0.8462978 ]\n",
            " [0.5757034 ]\n",
            " [0.4237138 ]\n",
            " [0.35550424]\n",
            " [0.8656931 ]\n",
            " [0.57844186]\n",
            " [0.2508636 ]\n",
            " [0.919132  ]\n",
            " [0.3746999 ]\n",
            " [0.532373  ]\n",
            " [0.9522535 ]\n",
            " [0.51426   ]\n",
            " [0.9132378 ]\n",
            " [0.56170017]\n",
            " [0.5813381 ]\n",
            " [0.56602275]\n",
            " [0.7413255 ]\n",
            " [0.4341904 ]\n",
            " [0.7757345 ]\n",
            " [0.6134474 ]\n",
            " [0.5236014 ]\n",
            " [0.33170858]\n",
            " [0.49551386]\n",
            " [0.5212244 ]\n",
            " [0.74961126]\n",
            " [0.79579544]\n",
            " [0.6910933 ]\n",
            " [0.7959832 ]\n",
            " [0.880427  ]\n",
            " [0.6592356 ]\n",
            " [0.761161  ]\n",
            " [0.83684254]\n",
            " [0.6940896 ]\n",
            " [0.76343375]\n",
            " [0.83811975]\n",
            " [0.6273997 ]\n",
            " [0.80527407]\n",
            " [0.5261962 ]\n",
            " [0.5737035 ]\n",
            " [0.30254748]\n",
            " [0.5644957 ]\n",
            " [0.3150752 ]\n",
            " [0.6938446 ]\n",
            " [0.27665612]\n",
            " [0.8015401 ]\n",
            " [0.83217776]\n",
            " [0.8594139 ]\n",
            " [0.71599627]\n",
            " [0.29862565]\n",
            " [0.7475161 ]\n",
            " [0.9317864 ]\n",
            " [0.42345402]\n",
            " [0.961666  ]\n",
            " [0.17070916]\n",
            " [0.302344  ]\n",
            " [0.37914604]\n",
            " [0.41388768]\n",
            " [0.63074684]\n",
            " [0.7482875 ]\n",
            " [0.58740324]\n",
            " [0.6216205 ]\n",
            " [0.75959885]\n",
            " [0.5762838 ]\n",
            " [0.6052235 ]\n",
            " [0.8245746 ]\n",
            " [0.4472072 ]\n",
            " [0.5788185 ]\n",
            " [0.14865543]\n",
            " [0.5535325 ]\n",
            " [0.48260516]\n",
            " [0.30744773]\n",
            " [0.80889153]\n",
            " [0.8373612 ]\n",
            " [0.31923783]\n",
            " [0.8182814 ]\n",
            " [0.83119506]\n",
            " [0.55634826]\n",
            " [0.3925858 ]\n",
            " [0.81756186]\n",
            " [0.32633188]\n",
            " [0.3309    ]\n",
            " [0.9062706 ]\n",
            " [0.2696719 ]\n",
            " [0.51706815]\n",
            " [0.51446706]\n",
            " [0.7768941 ]\n",
            " [0.73533565]\n",
            " [0.87235564]\n",
            " [0.56816965]\n",
            " [0.8514625 ]\n",
            " [0.11343635]\n",
            " [0.6174711 ]\n",
            " [0.19932848]\n",
            " [0.8837533 ]\n",
            " [0.7035053 ]\n",
            " [0.47978848]\n",
            " [0.6326729 ]\n",
            " [0.69005126]\n",
            " [0.5359907 ]\n",
            " [0.92352253]\n",
            " [0.55212533]\n",
            " [0.1744815 ]\n",
            " [0.27367884]\n",
            " [0.63651127]\n",
            " [0.86795586]\n",
            " [0.6908152 ]\n",
            " [0.5022154 ]\n",
            " [0.73626906]\n",
            " [0.8820197 ]\n",
            " [0.79052395]\n",
            " [0.6419593 ]\n",
            " [0.3398068 ]\n",
            " [0.8834733 ]\n",
            " [0.6311414 ]\n",
            " [0.15175524]\n",
            " [0.48428947]\n",
            " [0.45276374]\n",
            " [0.8086932 ]\n",
            " [0.56078136]\n",
            " [0.8453156 ]\n",
            " [0.7496156 ]\n",
            " [0.4155965 ]\n",
            " [0.7743235 ]\n",
            " [0.54737467]\n",
            " [0.8306493 ]\n",
            " [0.6959321 ]\n",
            " [0.7739797 ]\n",
            " [0.6545528 ]\n",
            " [0.67136055]\n",
            " [0.5235835 ]\n",
            " [0.68993825]\n",
            " [0.12019034]\n",
            " [0.9165829 ]\n",
            " [0.8930813 ]\n",
            " [0.55410343]\n",
            " [0.544447  ]\n",
            " [0.59149987]]\n"
          ]
        }
      ],
      "source": [
        "#predict the test data\n",
        "predictions = resnet_model.predict(test_data)\n",
        "print(predictions)"
      ]
    },
    {
      "cell_type": "code",
      "execution_count": 13,
      "metadata": {
        "id": "r7XjnjcNyMbv",
        "colab": {
          "base_uri": "https://localhost:8080/"
        },
        "outputId": "22232a27-740c-44b4-d39b-ecacc5d153fd"
      },
      "outputs": [
        {
          "output_type": "execute_result",
          "data": {
            "text/plain": [
              "256"
            ]
          },
          "metadata": {},
          "execution_count": 13
        }
      ],
      "source": [
        "len(predictions)"
      ]
    },
    {
      "cell_type": "code",
      "execution_count": 14,
      "metadata": {
        "id": "oqqBXpuhyd6x",
        "colab": {
          "base_uri": "https://localhost:8080/"
        },
        "outputId": "9a9607e4-b0fd-492b-9c33-6f13c38b67f1"
      },
      "outputs": [
        {
          "output_type": "stream",
          "name": "stdout",
          "text": [
            "Confusion Matrix:\n",
            "[[37 91]\n",
            " [32 96]]\n",
            "Classification Report:\n",
            "              precision    recall  f1-score   support\n",
            "\n",
            "           0       0.54      0.29      0.38       128\n",
            "           1       0.51      0.75      0.61       128\n",
            "\n",
            "    accuracy                           0.52       256\n",
            "   macro avg       0.52      0.52      0.49       256\n",
            "weighted avg       0.52      0.52      0.49       256\n",
            "\n"
          ]
        }
      ],
      "source": [
        "from sklearn.metrics import confusion_matrix, classification_report\n",
        "\n",
        "# Assuming you have ground truth labels (true_labels) and predicted labels (predictions)\n",
        "true_labels = test_data.classes\n",
        "predicted_labels = (predictions > 0.5).astype(int)  # Adjust the threshold as needed\n",
        "\n",
        "# Calculate confusion matrix\n",
        "cm = confusion_matrix(true_labels, predicted_labels)\n",
        "\n",
        "# Print confusion matrix\n",
        "print(\"Confusion Matrix:\")\n",
        "print(cm)\n",
        "\n",
        "# Print classification report\n",
        "print(\"Classification Report:\")\n",
        "print(classification_report(true_labels, predicted_labels))"
      ]
    }
  ],
  "metadata": {
    "accelerator": "TPU",
    "colab": {
      "provenance": []
    },
    "kernelspec": {
      "display_name": "Python 3",
      "name": "python3"
    },
    "language_info": {
      "name": "python"
    }
  },
  "nbformat": 4,
  "nbformat_minor": 0
}