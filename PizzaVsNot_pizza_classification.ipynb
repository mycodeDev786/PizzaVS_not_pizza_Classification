{
  "cells": [
    {
      "cell_type": "code",
      "execution_count": 1,
      "metadata": {
        "colab": {
          "base_uri": "https://localhost:8080/"
        },
        "id": "XwS3JKt-U1CE",
        "outputId": "c00c433e-836a-44aa-c329-1dbd325e8766"
      },
      "outputs": [
        {
          "output_type": "stream",
          "name": "stdout",
          "text": [
            "Mounted at /content/drive\n"
          ]
        }
      ],
      "source": [
        "#My dataset is available in googledrive; so I am accessing my drive from colab\n",
        "from google.colab import drive\n",
        "drive.mount('/content/drive', force_remount=True)\n",
        "#Once this is executed, you will see your drive appearing on the left hand side"
      ]
    },
    {
      "cell_type": "code",
      "execution_count": 2,
      "metadata": {
        "id": "SMPHESYVVnzp"
      },
      "outputs": [],
      "source": [
        "# Define paths to the dataset\n",
        "train_dir = '/content/drive/MyDrive/pizza_not_pizza/train'  # Update with your actual path\n",
        "test_dir = '/content/drive/MyDrive/pizza_not_pizza/test'    # Update with your actual path"
      ]
    },
    {
      "cell_type": "code",
      "execution_count": 3,
      "metadata": {
        "colab": {
          "base_uri": "https://localhost:8080/"
        },
        "id": "wwfZiLtU6Ruq",
        "outputId": "d8d42ec3-851e-42d1-c3f3-2c059c08fb0a"
      },
      "outputs": [
        {
          "output_type": "stream",
          "name": "stdout",
          "text": [
            "855\n",
            "855\n",
            "128\n",
            "128\n"
          ]
        }
      ],
      "source": [
        "import os\n",
        "print(len(os.listdir('/content/drive/MyDrive/pizza_not_pizza/train/pizza')))\n",
        "print(len(os.listdir('/content/drive/MyDrive/pizza_not_pizza/train/not_pizza')))\n",
        "print(len(os.listdir('/content/drive/MyDrive/pizza_not_pizza/test/pizza')))\n",
        "print(len(os.listdir('/content/drive/MyDrive/pizza_not_pizza/test/not_pizza')))"
      ]
    },
    {
      "cell_type": "code",
      "execution_count": 4,
      "metadata": {
        "colab": {
          "base_uri": "https://localhost:8080/"
        },
        "id": "kf8li3JNUJR1",
        "outputId": "50004a94-95a2-476e-902b-6f7254d19bf4"
      },
      "outputs": [
        {
          "output_type": "stream",
          "name": "stdout",
          "text": [
            "Found 1368 images belonging to 2 classes.\n",
            "Found 342 images belonging to 2 classes.\n"
          ]
        }
      ],
      "source": [
        "import tensorflow as tf\n",
        "from tensorflow.keras.preprocessing.image import ImageDataGenerator\n",
        "\n",
        "# Create ImageDataGenerator for training set\n",
        "train_datagen = ImageDataGenerator(\n",
        "    rescale=1./255,\n",
        "    validation_split=0.2  # Split 20% of the images for validation\n",
        ")\n",
        "\n",
        "# Load and prepare training data\n",
        "train_data = train_datagen.flow_from_directory(\n",
        "    train_dir,\n",
        "    target_size=(256,256),\n",
        "    batch_size=32,\n",
        "    class_mode='binary',  # 'binary' for binary classification (cats vs. dogs)\n",
        "    subset='training'  # Specify 'training' for the training set\n",
        ")\n",
        "\n",
        "# Create ImageDataGenerator for validation set\n",
        "validation_datagen = ImageDataGenerator(\n",
        "    rescale=1./255,\n",
        "    validation_split=0.2  # Note: Using the same validation split as in the training set\n",
        ")\n",
        "\n",
        "# Load and prepare validation data\n",
        "validation_data = validation_datagen.flow_from_directory(\n",
        "    train_dir,\n",
        "    target_size=(256,256),\n",
        "    batch_size=32,\n",
        "    class_mode='binary',\n",
        "    subset='validation'  # Specify 'validation' for the validation set\n",
        ")"
      ]
    },
    {
      "cell_type": "code",
      "execution_count": 5,
      "metadata": {
        "id": "wGp6oIfQWMFh"
      },
      "outputs": [],
      "source": [
        "from tensorflow import keras\n",
        "from keras import Sequential\n",
        "from keras.layers import Dense,Conv2D,MaxPooling2D,Flatten,BatchNormalization,UpSampling2D, Dropout"
      ]
    },
    {
      "cell_type": "code",
      "execution_count": 6,
      "metadata": {
        "id": "6liLEEzLWNB5"
      },
      "outputs": [],
      "source": [
        "# create CNN model\n",
        "\n",
        "model = Sequential()\n",
        "\n",
        "model.add(Conv2D(32,kernel_size=(3,3),padding='valid',activation='relu',input_shape=(256,256,3)))  # 32 filters\n",
        "#model.add(BatchNormalization())  # added to reduce overfitting\n",
        "model.add(MaxPooling2D(pool_size=(2,2),strides=2,padding='valid'))\n",
        "\n",
        "model.add(Conv2D(64,kernel_size=(3,3),padding='valid',activation='relu'))\n",
        "#model.add(BatchNormalization())  # added to reduce overfitting\n",
        "model.add(MaxPooling2D(pool_size=(2,2),strides=2,padding='valid'))\n",
        "\n",
        "model.add(Conv2D(128,kernel_size=(3,3),padding='valid',activation='relu'))\n",
        "#model.add(BatchNormalization())  # added to reduce overfitting\n",
        "model.add(MaxPooling2D(pool_size=(2,2),strides=2,padding='valid'))\n",
        "\n",
        "model.add(Flatten())\n",
        "\n",
        "model.add(Dense(128,activation='relu')) #feature reduction\n",
        "#model.add(Dropout(0.1))  # added to reduce overfitting\n",
        "model.add(Dense(64,activation='relu'))\n",
        "#model.add(Dropout(0.1))  # added to reduce overfitting\n",
        "model.add(Dense(1,activation='sigmoid'))  #output layer"
      ]
    },
    {
      "cell_type": "code",
      "execution_count": 7,
      "metadata": {
        "id": "SeBjyn0iWXgY"
      },
      "outputs": [],
      "source": [
        "from keras.optimizers import Adam\n",
        "model.compile(optimizer=Adam(learning_rate=0.001),loss='binary_crossentropy',metrics=['accuracy']) #binary_crossentropy - binary classification"
      ]
    },
    {
      "cell_type": "code",
      "execution_count": 8,
      "metadata": {
        "colab": {
          "base_uri": "https://localhost:8080/"
        },
        "id": "lGbY2VpIWbTt",
        "outputId": "1ac4e683-8a41-446c-82a5-f285981917a4"
      },
      "outputs": [
        {
          "output_type": "stream",
          "name": "stdout",
          "text": [
            "Epoch 1/10\n",
            "43/43 [==============================] - 678s 16s/step - loss: 0.7270 - accuracy: 0.6279 - val_loss: 0.5686 - val_accuracy: 0.7047\n",
            "Epoch 2/10\n",
            "43/43 [==============================] - 7s 171ms/step - loss: 0.5453 - accuracy: 0.7215 - val_loss: 0.5267 - val_accuracy: 0.7427\n",
            "Epoch 3/10\n",
            "43/43 [==============================] - 7s 168ms/step - loss: 0.4709 - accuracy: 0.7880 - val_loss: 0.4671 - val_accuracy: 0.7836\n",
            "Epoch 4/10\n",
            "43/43 [==============================] - 7s 165ms/step - loss: 0.4062 - accuracy: 0.8209 - val_loss: 0.5262 - val_accuracy: 0.7515\n",
            "Epoch 5/10\n",
            "43/43 [==============================] - 7s 170ms/step - loss: 0.2991 - accuracy: 0.8721 - val_loss: 0.5511 - val_accuracy: 0.7456\n",
            "Epoch 6/10\n",
            "43/43 [==============================] - 7s 165ms/step - loss: 0.1788 - accuracy: 0.9313 - val_loss: 0.6099 - val_accuracy: 0.7368\n",
            "Epoch 7/10\n",
            "43/43 [==============================] - 7s 170ms/step - loss: 0.1223 - accuracy: 0.9554 - val_loss: 0.9325 - val_accuracy: 0.7105\n",
            "Epoch 8/10\n",
            "43/43 [==============================] - 7s 170ms/step - loss: 0.0795 - accuracy: 0.9715 - val_loss: 0.8709 - val_accuracy: 0.7661\n",
            "Epoch 9/10\n",
            "43/43 [==============================] - 7s 168ms/step - loss: 0.0583 - accuracy: 0.9803 - val_loss: 1.1454 - val_accuracy: 0.7339\n",
            "Epoch 10/10\n",
            "43/43 [==============================] - 7s 168ms/step - loss: 0.0206 - accuracy: 0.9956 - val_loss: 1.0989 - val_accuracy: 0.7836\n"
          ]
        }
      ],
      "source": [
        "history = model.fit(train_data, epochs=10, validation_data=validation_data)"
      ]
    },
    {
      "cell_type": "code",
      "execution_count": 9,
      "metadata": {
        "id": "g21dMlSOWKas",
        "colab": {
          "base_uri": "https://localhost:8080/",
          "height": 430
        },
        "outputId": "8699c53e-9b3c-4632-80dd-ab59d43f05d5"
      },
      "outputs": [
        {
          "output_type": "display_data",
          "data": {
            "text/plain": [
              "<Figure size 640x480 with 1 Axes>"
            ],
            "image/png": "[encoded data removed]"
          },
          "metadata": {}
        }
      ],
      "source": [
        "import matplotlib.pyplot as plt\n",
        "\n",
        "plt.plot(history.history['accuracy'],color='red',label='train')\n",
        "plt.plot(history.history['val_accuracy'],color='blue',label='validation')\n",
        "plt.legend()\n",
        "plt.show()"
      ]
    },
    {
      "cell_type": "code",
      "execution_count": 10,
      "metadata": {
        "id": "FYZ0VJp4esXl",
        "colab": {
          "base_uri": "https://localhost:8080/",
          "height": 435
        },
        "outputId": "da25ee49-a312-4b38-be5f-0d72048abbc3"
      },
      "outputs": [
        {
          "output_type": "display_data",
          "data": {
            "text/plain": [
              "<Figure size 640x480 with 1 Axes>"
            ],
            "image/png": "[encoded data removed]"
          },
          "metadata": {}
        }
      ],
      "source": [
        "plt.plot(history.history['loss'],color='red',label='train')\n",
        "plt.plot(history.history['val_loss'],color='blue',label='validation')\n",
        "plt.legend()\n",
        "plt.show()"
      ]
    },
    {
      "cell_type": "code",
      "execution_count": 11,
      "metadata": {
        "id": "tQj_RyrZWBEt",
        "colab": {
          "base_uri": "https://localhost:8080/"
        },
        "outputId": "95d58ee2-2c01-4d78-d8f1-6d7c1a9975cb"
      },
      "outputs": [
        {
          "output_type": "stream",
          "name": "stdout",
          "text": [
            "Found 256 images belonging to 2 classes.\n"
          ]
        }
      ],
      "source": [
        "test_datagen = ImageDataGenerator(rescale=1./255)\n",
        "test_data = test_datagen.flow_from_directory(\n",
        "    test_dir,\n",
        "    target_size=(256,256),\n",
        "    batch_size=32,\n",
        "    class_mode='binary'\n",
        ")"
      ]
    },
    {
      "cell_type": "code",
      "execution_count": 12,
      "metadata": {
        "id": "glicW8_5vTqd",
        "colab": {
          "base_uri": "https://localhost:8080/"
        },
        "outputId": "def08439-3e79-4ab7-f9f0-f82d2dd3cb43"
      },
      "outputs": [
        {
          "output_type": "stream",
          "name": "stdout",
          "text": [
            "8/8 [==============================] - 85s 12s/step\n",
            "[[4.94150847e-01]\n",
            " [1.25417374e-02]\n",
            " [9.99980450e-01]\n",
            " [3.07146297e-03]\n",
            " [7.23748375e-03]\n",
            " [8.79397616e-03]\n",
            " [9.28818226e-01]\n",
            " [7.45873213e-01]\n",
            " [9.99999881e-01]\n",
            " [9.99999881e-01]\n",
            " [8.47771585e-01]\n",
            " [4.86112229e-04]\n",
            " [9.97367442e-01]\n",
            " [9.56593454e-03]\n",
            " [8.96626115e-02]\n",
            " [7.17781067e-01]\n",
            " [9.23412800e-01]\n",
            " [1.38034415e-03]\n",
            " [4.25318144e-02]\n",
            " [9.20249283e-01]\n",
            " [1.32939629e-02]\n",
            " [3.80729645e-04]\n",
            " [3.62687260e-01]\n",
            " [4.28097770e-02]\n",
            " [9.99028325e-01]\n",
            " [2.99760629e-03]\n",
            " [5.55130720e-01]\n",
            " [9.96400118e-01]\n",
            " [8.83155270e-04]\n",
            " [6.48416504e-02]\n",
            " [9.99878407e-01]\n",
            " [9.63218272e-01]\n",
            " [8.48415971e-01]\n",
            " [2.55210489e-01]\n",
            " [9.99993443e-01]\n",
            " [1.48693181e-03]\n",
            " [7.97013100e-03]\n",
            " [8.02024454e-03]\n",
            " [9.93848383e-01]\n",
            " [5.66903114e-01]\n",
            " [1.97273940e-02]\n",
            " [2.47394055e-01]\n",
            " [1.89415948e-03]\n",
            " [1.40358938e-03]\n",
            " [9.70138371e-01]\n",
            " [7.93830514e-01]\n",
            " [3.76252644e-03]\n",
            " [7.88456872e-02]\n",
            " [8.43714084e-03]\n",
            " [9.26922619e-01]\n",
            " [1.04969167e-05]\n",
            " [9.99813378e-01]\n",
            " [9.99315381e-01]\n",
            " [8.54435444e-01]\n",
            " [8.83064926e-01]\n",
            " [8.25096201e-03]\n",
            " [9.99975324e-01]\n",
            " [9.99998808e-01]\n",
            " [9.99709666e-01]\n",
            " [2.38655441e-04]\n",
            " [2.20118309e-05]\n",
            " [9.99042213e-01]\n",
            " [9.20994431e-02]\n",
            " [8.25917274e-02]\n",
            " [3.06507354e-05]\n",
            " [9.99774635e-01]\n",
            " [3.79233733e-02]\n",
            " [9.92139995e-01]\n",
            " [9.97186124e-01]\n",
            " [2.32807797e-05]\n",
            " [9.99982119e-01]\n",
            " [5.42351544e-01]\n",
            " [3.47474986e-03]\n",
            " [8.90166879e-01]\n",
            " [6.77349269e-02]\n",
            " [5.41196496e-04]\n",
            " [3.45935550e-04]\n",
            " [4.09459043e-03]\n",
            " [9.99971151e-01]\n",
            " [2.89045484e-03]\n",
            " [9.99774396e-01]\n",
            " [3.38069373e-03]\n",
            " [9.98884261e-01]\n",
            " [9.58744943e-01]\n",
            " [8.20407644e-04]\n",
            " [3.29046947e-04]\n",
            " [9.99806345e-01]\n",
            " [9.97668207e-01]\n",
            " [9.99994993e-01]\n",
            " [9.56116021e-02]\n",
            " [9.61169451e-02]\n",
            " [9.90121245e-01]\n",
            " [9.85995233e-01]\n",
            " [6.38847341e-05]\n",
            " [4.23700482e-01]\n",
            " [9.29496050e-01]\n",
            " [4.99543726e-01]\n",
            " [9.66223359e-01]\n",
            " [6.30003095e-01]\n",
            " [1.30056906e-05]\n",
            " [9.70411956e-01]\n",
            " [6.02446670e-09]\n",
            " [1.02318265e-01]\n",
            " [9.75004256e-01]\n",
            " [2.07189028e-03]\n",
            " [9.99996424e-01]\n",
            " [1.20190904e-03]\n",
            " [5.67562580e-01]\n",
            " [7.98357427e-02]\n",
            " [9.79898274e-02]\n",
            " [6.01293981e-01]\n",
            " [9.99904513e-01]\n",
            " [9.33928788e-01]\n",
            " [4.97083701e-02]\n",
            " [3.69291216e-01]\n",
            " [9.51720178e-01]\n",
            " [9.90295053e-01]\n",
            " [9.99543369e-01]\n",
            " [9.70824242e-01]\n",
            " [8.58894840e-04]\n",
            " [4.11738548e-03]\n",
            " [9.94241714e-01]\n",
            " [4.51172082e-06]\n",
            " [2.09816455e-04]\n",
            " [4.59703803e-02]\n",
            " [9.97146428e-01]\n",
            " [3.21277214e-04]\n",
            " [2.36013740e-01]\n",
            " [1.82869919e-02]\n",
            " [1.54639220e-05]\n",
            " [9.97510433e-01]\n",
            " [2.22318098e-01]\n",
            " [4.11501259e-01]\n",
            " [1.44871662e-03]\n",
            " [9.37075198e-01]\n",
            " [9.99705613e-01]\n",
            " [8.31643462e-01]\n",
            " [9.98798013e-01]\n",
            " [3.88766438e-01]\n",
            " [1.81552824e-02]\n",
            " [7.99074583e-03]\n",
            " [1.00217108e-03]\n",
            " [9.15395439e-01]\n",
            " [1.13658877e-02]\n",
            " [7.03729969e-03]\n",
            " [2.84234971e-01]\n",
            " [1.90233302e-04]\n",
            " [3.94687802e-02]\n",
            " [2.43234351e-01]\n",
            " [9.96436596e-01]\n",
            " [9.67081487e-01]\n",
            " [2.73718350e-02]\n",
            " [9.29648802e-02]\n",
            " [7.63574019e-02]\n",
            " [9.18942897e-05]\n",
            " [1.00000000e+00]\n",
            " [1.18341484e-06]\n",
            " [4.85415548e-01]\n",
            " [9.99011517e-01]\n",
            " [9.99647617e-01]\n",
            " [1.22462660e-01]\n",
            " [5.10628760e-01]\n",
            " [6.25714194e-04]\n",
            " [9.99984860e-01]\n",
            " [3.03986622e-03]\n",
            " [6.91024261e-03]\n",
            " [1.83341373e-02]\n",
            " [2.29733461e-03]\n",
            " [7.13302270e-02]\n",
            " [9.99782383e-01]\n",
            " [9.99995112e-01]\n",
            " [8.94833647e-06]\n",
            " [9.99999881e-01]\n",
            " [6.16554229e-04]\n",
            " [9.92398322e-01]\n",
            " [7.48760760e-01]\n",
            " [9.95505929e-01]\n",
            " [9.99228597e-01]\n",
            " [6.72337830e-01]\n",
            " [9.99901295e-01]\n",
            " [3.16986233e-01]\n",
            " [2.00919876e-05]\n",
            " [5.11259423e-05]\n",
            " [7.19264103e-03]\n",
            " [9.99580920e-01]\n",
            " [5.32433331e-01]\n",
            " [2.01483019e-07]\n",
            " [2.58942544e-01]\n",
            " [7.14356429e-04]\n",
            " [2.07664983e-04]\n",
            " [9.99275267e-01]\n",
            " [8.62500106e-04]\n",
            " [9.99999762e-01]\n",
            " [2.17195988e-01]\n",
            " [1.00000000e+00]\n",
            " [9.99961853e-01]\n",
            " [9.94164526e-01]\n",
            " [4.78947967e-01]\n",
            " [4.45120240e-05]\n",
            " [9.96678591e-01]\n",
            " [9.13563550e-01]\n",
            " [9.99999046e-01]\n",
            " [3.12785715e-01]\n",
            " [6.14936948e-01]\n",
            " [2.41945982e-02]\n",
            " [9.79082584e-01]\n",
            " [1.16613442e-02]\n",
            " [9.58314300e-01]\n",
            " [1.51271271e-02]\n",
            " [9.22946667e-04]\n",
            " [9.99999046e-01]\n",
            " [5.93592358e-06]\n",
            " [6.09586341e-03]\n",
            " [4.17870251e-05]\n",
            " [9.99998212e-01]\n",
            " [9.97210562e-01]\n",
            " [9.96138513e-01]\n",
            " [5.20824096e-06]\n",
            " [4.15176824e-02]\n",
            " [1.55500951e-03]\n",
            " [7.99359858e-01]\n",
            " [4.10500430e-02]\n",
            " [9.99958634e-01]\n",
            " [8.26463976e-04]\n",
            " [5.37582785e-02]\n",
            " [1.69841992e-03]\n",
            " [9.37461376e-01]\n",
            " [9.99564350e-01]\n",
            " [8.62443745e-01]\n",
            " [1.25305593e-01]\n",
            " [7.37290929e-06]\n",
            " [9.99997854e-01]\n",
            " [1.77119495e-04]\n",
            " [4.22349051e-02]\n",
            " [2.40883743e-03]\n",
            " [3.02612513e-01]\n",
            " [1.96038391e-02]\n",
            " [3.94951378e-04]\n",
            " [9.94894385e-01]\n",
            " [7.74141788e-01]\n",
            " [6.60727561e-01]\n",
            " [5.08133369e-03]\n",
            " [9.75858092e-01]\n",
            " [1.68966464e-04]\n",
            " [9.99999404e-01]\n",
            " [5.55747515e-03]\n",
            " [9.76407409e-01]\n",
            " [7.95588970e-01]\n",
            " [9.96925175e-01]\n",
            " [9.27893043e-01]\n",
            " [7.37553760e-02]\n",
            " [9.99940038e-01]\n",
            " [9.99489784e-01]\n",
            " [1.19009428e-01]\n",
            " [1.38444379e-01]\n",
            " [9.81135011e-01]]\n"
          ]
        }
      ],
      "source": [
        "#predict the test data\n",
        "predictions = model.predict(test_data)\n",
        "print(predictions)"
      ]
    },
    {
      "cell_type": "code",
      "execution_count": 13,
      "metadata": {
        "id": "r7XjnjcNyMbv",
        "colab": {
          "base_uri": "https://localhost:8080/"
        },
        "outputId": "a039226d-d3f8-4ba0-83db-c8b03c55be83"
      },
      "outputs": [
        {
          "output_type": "execute_result",
          "data": {
            "text/plain": [
              "256"
            ]
          },
          "metadata": {},
          "execution_count": 13
        }
      ],
      "source": [
        "len(predictions)"
      ]
    },
    {
      "cell_type": "code",
      "execution_count": 14,
      "metadata": {
        "id": "oqqBXpuhyd6x",
        "colab": {
          "base_uri": "https://localhost:8080/"
        },
        "outputId": "a91c8b4d-d234-4cbe-b7b3-7993c5dc70aa"
      },
      "outputs": [
        {
          "output_type": "stream",
          "name": "stdout",
          "text": [
            "Confusion Matrix:\n",
            "[[67 61]\n",
            " [71 57]]\n",
            "Classification Report:\n",
            "              precision    recall  f1-score   support\n",
            "\n",
            "           0       0.49      0.52      0.50       128\n",
            "           1       0.48      0.45      0.46       128\n",
            "\n",
            "    accuracy                           0.48       256\n",
            "   macro avg       0.48      0.48      0.48       256\n",
            "weighted avg       0.48      0.48      0.48       256\n",
            "\n"
          ]
        }
      ],
      "source": [
        "from sklearn.metrics import confusion_matrix, classification_report\n",
        "\n",
        "# Assuming you have ground truth labels (true_labels) and predicted labels (predictions)\n",
        "true_labels = test_data.classes\n",
        "predicted_labels = (predictions > 0.5).astype(int)  # Adjust the threshold as needed\n",
        "\n",
        "# Calculate confusion matrix\n",
        "cm = confusion_matrix(true_labels, predicted_labels)\n",
        "\n",
        "# Print confusion matrix\n",
        "print(\"Confusion Matrix:\")\n",
        "print(cm)\n",
        "\n",
        "# Print classification report\n",
        "print(\"Classification Report:\")\n",
        "print(classification_report(true_labels, predicted_labels))"
      ]
    }
  ],
  "metadata": {
    "accelerator": "GPU",
    "colab": {
      "provenance": [],
      "machine_shape": "hm",
      "gpuType": "L4"
    },
    "kernelspec": {
      "display_name": "Python 3",
      "name": "python3"
    },
    "language_info": {
      "name": "python"
    }
  },
  "nbformat": 4,
  "nbformat_minor": 0
}